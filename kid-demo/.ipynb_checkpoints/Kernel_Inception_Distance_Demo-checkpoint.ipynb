{
 "cells": [
  {
   "cell_type": "code",
   "execution_count": 1,
   "source": [
    "import glob\n",
    "import torch\n",
    "import numpy as np\n",
    "\n",
    "from PIL import Image\n",
    "from torchmetrics.image.kid import KernelInceptionDistance\n",
    "\n",
    "print(\"Packages successfully imported!\")"
   ],
   "outputs": [
    {
     "output_type": "stream",
     "name": "stdout",
     "text": [
      "Packages successfully imported!\n"
     ]
    }
   ],
   "metadata": {}
  },
  {
   "cell_type": "code",
   "execution_count": 4,
   "source": [
    "REAL_IMAGES_FOLDER = \"../data/DALLE/training/\"\n",
    "FAKE_IMAGES_FOLDER = \"../data/pretrained_stable_diffusion/\"\n",
    "GENERATED_IMAGES_FOLDER = \"../data/finetune/rank4steps1000\"\n",
    "\n",
    "real_images, fake_images, generated_images = [], [], []\n",
    "\n",
    "for filename in glob.glob(REAL_IMAGES_FOLDER + \"*\"):\n",
    "    real_images.append(Image.open(filename))\n",
    "\n",
    "print(f\"Loaded {len(real_images)} real images...\")\n",
    "\n",
    "for filename in glob.glob(FAKE_IMAGES_FOLDER + \"*\"):\n",
    "    fake_images.append(Image.open(filename))\n",
    "\n",
    "print(f\"Loaded {len(fake_images)} fake images...\")\n",
    "\n",
    "for filename in glob.glob(GENERATED_IMAGES_FOLDER + \"*\"):\n",
    "    generated_images.append(Image.open(filename))\n",
    "\n",
    "print(f\"Loaded {len(fake_images)} fake images...\")\n",
    "\n",
    "assert len(real_images) == len(fake_images)\n",
    "\n",
    "real_images, fake_images, generated_images = torch.Tensor(np.array(real_images)), torch.Tensor(np.array(fake_images)), torch.Tensor(np.array(generated_images))\n",
    "real_images, fake_images, generated_images = torch.transpose(real_images, 2, 3), torch.transpose(fake_images, 2, 3), torch.transpose(generated_images, 2, 3)\n",
    "real_images, fake_images, generated_images = torch.transpose(real_images, 1, 2), torch.transpose(fake_images, 1, 2), torch.transpose(generated_images, 1, 2)\n",
    "real_images, fake_images, generated_images = real_images / 255.0, fake_images / 255.0, generated_images / 255.0\n",
    "print(\"Successfully loaded images!\")"
   ],
   "outputs": [
    {
     "output_type": "stream",
     "name": "stdout",
     "text": [
      "Loaded 20 real images...\n",
      "Loaded 20 fake images...\n",
      "Loaded 20 fake images...\n",
      "Successfully loaded images!\n"
     ]
    }
   ],
   "metadata": {}
  },
  {
   "cell_type": "code",
   "execution_count": 5,
   "source": [
    "kid = KernelInceptionDistance(subset_size=10, normalize=True, reset_real_features=False) # Change sample size to reflect number of images\n",
    "kid.update(real_images, real=True)\n",
    "kid.update(fake_images, real=False)\n",
    "control_mean, control_stddev = kid.compute()\n",
    "\n",
    "print(f\"Control: Mean ({control_mean}), Standard Deviation ({control_stddev})\")\n",
    "\n",
    "kid.reset()\n",
    "kid.update(generated_images, real=False)\n",
    "experimental_mean, experimental_stddev = kid.compute()\n",
    "print(f\"Experimental: Mean ({experimental_mean}), Standard Deviation ({experimental_stddev})\")"
   ],
   "outputs": [
    {
     "output_type": "stream",
     "name": "stderr",
     "text": [
      "/Users/ben/.local/miniconda3/lib/python3.11/site-packages/torchmetrics/utilities/prints.py:43: UserWarning: Metric `Kernel Inception Distance` will save all extracted features in buffer. For large datasets this may lead to large memory footprint.\n",
      "  warnings.warn(*args, **kwargs)  # noqa: B028\n"
     ]
    },
    {
     "output_type": "stream",
     "name": "stdout",
     "text": [
      "Control: Mean (0.03926284611225128), Standard Deviation (0.0070786066353321075)\n",
      "Experimental: Mean (0.044039007276296616), Standard Deviation (0.011334761045873165)\n"
     ]
    }
   ],
   "metadata": {}
  },
  {
   "cell_type": "code",
   "execution_count": null,
   "source": [],
   "outputs": [],
   "metadata": {}
  }
 ],
 "metadata": {
  "kernelspec": {
   "display_name": "Python 3 (ipykernel)",
   "language": "python",
   "name": "python3"
  },
  "language_info": {
   "codemirror_mode": {
    "name": "ipython",
    "version": 3
   },
   "file_extension": ".py",
   "mimetype": "text/x-python",
   "name": "python",
   "nbconvert_exporter": "python",
   "pygments_lexer": "ipython3",
   "version": "3.11.4"
  }
 },
 "nbformat": 4,
 "nbformat_minor": 5
}